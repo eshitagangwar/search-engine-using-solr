{
 "cells": [
  {
   "cell_type": "code",
   "execution_count": 1,
   "metadata": {},
   "outputs": [],
   "source": [
    "import networkx as nx\n",
    "import math\n",
    "\n"
   ]
  },
  {
   "cell_type": "code",
   "execution_count": 3,
   "metadata": {},
   "outputs": [],
   "source": [
    "G = nx.read_edgelist(\"C:/Users/Mishi/Downloads/edgeList.txt\", create_using=nx.DiGraph())\n",
    "\n",
    "pagerank = nx.pagerank(G, alpha=0.85, personalization=None, max_iter=30, tol=1e-06, nstart=None, weight='weight', dangling=None)\n",
    "\n",
    "with open(\"C:/Users/Mishi/Downloads/external_pageRankFile.txt\", \"w\", encoding=\"utf-8\") as f:\n",
    "    for pageid in pagerank:\n",
    "        f.write(\"/home/ubuntu-pr/shared/solr-8.7.0/foxnews/\" + pageid + \"=\" + str(math.log(pagerank[pageid])) + \"\\n\")"
   ]
  },
  {
   "cell_type": "code",
   "execution_count": null,
   "metadata": {},
   "outputs": [],
   "source": []
  }
 ],
 "metadata": {
  "kernelspec": {
   "display_name": "Python 3",
   "language": "python",
   "name": "python3"
  },
  "language_info": {
   "codemirror_mode": {
    "name": "ipython",
    "version": 3
   },
   "file_extension": ".py",
   "mimetype": "text/x-python",
   "name": "python",
   "nbconvert_exporter": "python",
   "pygments_lexer": "ipython3",
   "version": "3.7.6"
  }
 },
 "nbformat": 4,
 "nbformat_minor": 4
}
